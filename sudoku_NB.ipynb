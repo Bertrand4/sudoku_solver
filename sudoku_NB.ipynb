{
 "cells": [
  {
   "cell_type": "markdown",
   "metadata": {},
   "source": [
    "# PYTHON FOR SUDOKU SOLVER"
   ]
  },
  {
   "cell_type": "markdown",
   "metadata": {},
   "source": [
    "<li><a href=\"#un\">1°) Règle du jeu</a></li>\n",
    "<li><a href=\"#deux\"> 2°) Mise en situation</a></li>\n",
    "<li><a href=\"#trois\">3°) Déterminer les blocs</a></li>\n",
    "<li><a href=\"#quatre\"> 4°) Déterminer les blocs</a></li>\n",
    "<li><a href=\"#cinq\"> 5°) Possibilités </a></li>\n",
    "<li><a href=\"#six\"> 6°) Algorithme de résolution </a></li>"
   ]
  },
  {
   "cell_type": "markdown",
   "metadata": {},
   "source": [
    "### <a id=\"un\">1°) Règles du jeu</a>"
   ]
  },
  {
   "cell_type": "markdown",
   "metadata": {},
   "source": [
    "La règle du jeu du sudoku est très simple et tient en une phrase :\n",
    "Remplir les cases vides avec les chiffres de 1 à 9, de telle sorte qu'ils n'apparaissent qu'une fois par ligne, par colonne et par carré de 3x3 cases.\n",
    "\n",
    "Nul besoin d'être fort en math, la logique et le bon sens permettent de résoudre les grilles.\n",
    "\n",
    "Une grille de sudoku est divisée en 9 lignes, 9 colonnes et 9 carrés.\n",
    "- Chacun doit contenir tous les chiffres de 1 à 9.\n",
    "- Chaque case reçoit un chiffre de 1 à 9. Elle fait partie de trois groupes à la fois : elle se trouve sur une ligne, une colonne et un carré en même temps.\n",
    "\n",
    "Les groupes sont les éléments qui doivent contenir tous les chiffres de 1 à 9, ce sont :\n",
    "- La ligne est un ensemble de neuf cases/cellules disposées horizontalement\n",
    "- La colonne est un ensemble de neuf cases disposées verticalement\n",
    "- Le carré est un ensemble de neuf cases disposées en carré de 3x3 cases, la grille étant composées de neuf de ces carrés."
   ]
  },
  {
   "cell_type": "markdown",
   "metadata": {},
   "source": [
    "### <a id=\"deux\">2°) Mise en situation</a>"
   ]
  },
  {
   "cell_type": "markdown",
   "metadata": {},
   "source": [
    "Pour commencer, importons les librairies nécessaires à la réalisation du programme."
   ]
  },
  {
   "cell_type": "code",
   "execution_count": 2,
   "metadata": {},
   "outputs": [],
   "source": [
    "import numpy as np ; import pandas as pd ; import random"
   ]
  },
  {
   "cell_type": "markdown",
   "metadata": {},
   "source": [
    " Présentons maintenant notre grille-témoin, un sudoku résolu qui nous permettra de vérifier la validité des codes à venir."
   ]
  },
  {
   "cell_type": "code",
   "execution_count": 3,
   "metadata": {},
   "outputs": [
    {
     "data": {
      "text/plain": [
       "array([[3, 9, 1, 2, 8, 6, 5, 7, 4],\n",
       "       [4, 8, 7, 3, 5, 9, 1, 2, 6],\n",
       "       [6, 5, 2, 7, 1, 4, 8, 3, 9],\n",
       "       [8, 7, 5, 4, 3, 1, 6, 9, 2],\n",
       "       [2, 1, 3, 9, 6, 7, 4, 8, 5],\n",
       "       [9, 6, 4, 5, 2, 8, 7, 1, 3],\n",
       "       [1, 4, 9, 6, 7, 3, 2, 5, 8],\n",
       "       [5, 3, 8, 1, 4, 2, 9, 6, 7],\n",
       "       [7, 2, 6, 8, 9, 5, 3, 4, 1]])"
      ]
     },
     "execution_count": 3,
     "metadata": {},
     "output_type": "execute_result"
    }
   ],
   "source": [
    "solved_example=np.array([[3, 9, 1,   2, 8, 6,   5, 7, 4],\n",
    "                         [4, 8, 7,   3, 5, 9,   1, 2, 6],\n",
    "                         [6, 5, 2,   7, 1, 4,   8, 3, 9],\n",
    "              \n",
    "                         [8, 7, 5,   4, 3, 1,   6, 9, 2],\n",
    "                         [2, 1, 3,   9, 6, 7,   4, 8, 5],\n",
    "                         [9, 6, 4,   5, 2, 8,   7, 1, 3],\n",
    "              \n",
    "                         [1, 4, 9,   6, 7, 3,   2, 5, 8],\n",
    "                         [5, 3, 8,   1, 4, 2,   9, 6, 7],\n",
    "                         [7, 2, 6,   8, 9, 5,   3, 4, 1]]) ; solved_example"
   ]
  },
  {
   "cell_type": "markdown",
   "metadata": {},
   "source": [
    " Puis présentons la grille à compléter sur laquelle nous allons tester notre programme de résolution, où les cases à déterminer sont remplacées par des 0."
   ]
  },
  {
   "cell_type": "code",
   "execution_count": 4,
   "metadata": {},
   "outputs": [
    {
     "data": {
      "text/plain": [
       "array([[8, 0, 0, 0, 0, 0, 0, 0, 0],\n",
       "       [0, 0, 3, 6, 0, 0, 0, 0, 0],\n",
       "       [0, 7, 0, 0, 9, 0, 2, 0, 0],\n",
       "       [0, 5, 0, 0, 0, 7, 0, 0, 0],\n",
       "       [0, 0, 0, 0, 4, 5, 7, 0, 0],\n",
       "       [0, 0, 0, 1, 0, 0, 0, 3, 0],\n",
       "       [0, 0, 1, 0, 0, 0, 0, 6, 8],\n",
       "       [0, 0, 8, 5, 0, 0, 0, 1, 0],\n",
       "       [0, 9, 0, 0, 0, 0, 4, 0, 0]])"
      ]
     },
     "execution_count": 4,
     "metadata": {},
     "output_type": "execute_result"
    }
   ],
   "source": [
    "grille = np.array([[8, 0, 0,    0, 0, 0,    0, 0, 0],\n",
    "                   [0, 0, 3,    6, 0, 0,    0, 0, 0],\n",
    "                   [0, 7, 0,    0, 9, 0,    2, 0, 0],\n",
    "                   \n",
    "                   [0, 5, 0,    0, 0, 7,    0, 0, 0],\n",
    "                   [0, 0, 0,    0, 4, 5,    7, 0, 0],\n",
    "                   [0, 0, 0,    1, 0, 0,    0, 3, 0],\n",
    "                   \n",
    "                   [0, 0, 1,    0, 0, 0,    0, 6, 8],\n",
    "                   [0, 0, 8,    5, 0, 0,    0, 1, 0],\n",
    "                   [0, 9, 0,    0, 0, 0,    4, 0, 0]]) ; grille"
   ]
  },
  {
   "cell_type": "markdown",
   "metadata": {},
   "source": [
    " Si vous voulez le faire vous-même, libre à vous! Me concernant, j'y ai cumulé près de 5h à le résoudre (sans triche), et pourtant je suis un spécialiste! Donc autant vous dire que vous allez déguster...! Accessoirement, je vous affirme d'entrée de jeu que la solution est unique."
   ]
  },
  {
   "cell_type": "markdown",
   "metadata": {},
   "source": [
    "### <a id=\"trois\">3°) Déterminer les blocs</a>"
   ]
  },
  {
   "cell_type": "markdown",
   "metadata": {},
   "source": [
    " Déterminer la ligne et la colonne d'un élément d'un sudoku, c'est facile! Pour obtenir le bloc auquel il appartient (un des 9 carrés de la grille), c'est plus compliqué! La fonction suivante s'en charge en prenant en paramètre un sudoku Z donné, ainsi que x et y, respectivement les numéros de ligne et de colonne (allant chacun de 0 à 8 dans l'encoding) de l'élément recherché."
   ]
  },
  {
   "cell_type": "code",
   "execution_count": 5,
   "metadata": {},
   "outputs": [],
   "source": [
    "def bloc(Z, x, y):\n",
    "    if x in [0, 1, 2]: Z=Z[0:3, :]\n",
    "    if x in [3, 4, 5]: Z=Z[3:6, :]\n",
    "    if x in [6, 7, 8]: Z=Z[6:9, :]\n",
    "    if y in [0, 1, 2]: Z=Z[:, 0:3]\n",
    "    if y in [3, 4, 5]: Z=Z[:, 3:6]\n",
    "    if y in [6, 7, 8]: Z=Z[:, 6:9]\n",
    "    return(Z)"
   ]
  },
  {
   "cell_type": "markdown",
   "metadata": {},
   "source": [
    " Par exemple, repérez sur la grille à résoudre le 7 situé à la cinquième ligne et à la septième colonne. Il appartient au carré milieu droit de la grille. On peut le récupérer à partir de ses indices dans la grilles en prenant soin de décrémenter ces derniers pour tenir compte des conventions numpy."
   ]
  },
  {
   "cell_type": "code",
   "execution_count": 6,
   "metadata": {},
   "outputs": [
    {
     "data": {
      "text/plain": [
       "array([[0, 0, 0],\n",
       "       [7, 0, 0],\n",
       "       [0, 3, 0]])"
      ]
     },
     "execution_count": 6,
     "metadata": {},
     "output_type": "execute_result"
    }
   ],
   "source": [
    "bloc(grille, 4, 6)"
   ]
  },
  {
   "cell_type": "markdown",
   "metadata": {},
   "source": [
    " Pour repérer les éléments dans un bloc, nous nous servirons plutôt de la fonction crushed_bloc qui prend les mêmes paramètres que la fonction précédente, mais qui nous renvoie le bloc sous forme de liste."
   ]
  },
  {
   "cell_type": "code",
   "execution_count": 7,
   "metadata": {},
   "outputs": [
    {
     "data": {
      "text/plain": [
       "[0, 0, 0, 7, 0, 0, 0, 3, 0]"
      ]
     },
     "execution_count": 7,
     "metadata": {},
     "output_type": "execute_result"
    }
   ],
   "source": [
    "def crushed_bloc(Z, x, y):\n",
    "    Z=bloc(Z, x, y)\n",
    "    return(list(Z[0])+list(Z[1])+list(Z[2]))\n",
    "\n",
    "crushed_bloc(grille, 4, 6)"
   ]
  },
  {
   "cell_type": "markdown",
   "metadata": {},
   "source": [
    "### <a id=\"quatre\">4°) Validation d'une grille</a>"
   ]
  },
  {
   "cell_type": "markdown",
   "metadata": {},
   "source": [
    " Pour commencer, créons une fonction qui valide la candidature d'un nombre, c'est-dire qui renverra False si ce nombre se trouve déjà ailleurs sur la même ligne, la même colonne ou le même bloc. "
   ]
  },
  {
   "cell_type": "code",
   "execution_count": 8,
   "metadata": {},
   "outputs": [],
   "source": [
    "def check_box(sudoku, x, y):\n",
    "    VALIDITE=True\n",
    "    \n",
    "    nb=sudoku[x][y]\n",
    "    Z=crushed_bloc(sudoku, x, y)\n",
    "    \n",
    "    if (list(sudoku[x]).count(nb)>=2) or (list(sudoku[:, y]).count(nb)>=2): VALIDITE=False\n",
    "    if Z.count(nb)>=2: VALIDITE=False\n",
    "    if nb==0: VALIDITE=False\n",
    "    \n",
    "    return(VALIDITE)"
   ]
  },
  {
   "cell_type": "markdown",
   "metadata": {},
   "source": [
    " Nous allons maintenant créer une fonction qui prend en argument une grille et qui renvoie True si le sudoku est complet, et sans erreur, False sinon."
   ]
  },
  {
   "cell_type": "code",
   "execution_count": 9,
   "metadata": {},
   "outputs": [],
   "source": [
    "def check_grid(sudoku):\n",
    "    VALIDITE=True\n",
    "        \n",
    "    for x in range(9):\n",
    "        for y in range(9):\n",
    "            if check_box(sudoku, x, y)==False: VALIDITE=False\n",
    "                \n",
    "    return(VALIDITE)"
   ]
  },
  {
   "cell_type": "code",
   "execution_count": 10,
   "metadata": {},
   "outputs": [
    {
     "data": {
      "text/plain": [
       "True"
      ]
     },
     "execution_count": 10,
     "metadata": {},
     "output_type": "execute_result"
    }
   ],
   "source": [
    "check_grid(solved_example)"
   ]
  },
  {
   "cell_type": "markdown",
   "metadata": {},
   "source": [
    " On peut donc tester cette fonction sur notre grille-exemple ainsi que sur notre grille à remplir."
   ]
  },
  {
   "cell_type": "code",
   "execution_count": 11,
   "metadata": {},
   "outputs": [
    {
     "name": "stdout",
     "output_type": "stream",
     "text": [
      "solved_example:  True\n",
      "grille:  False\n"
     ]
    }
   ],
   "source": [
    "print(\"solved_example: \", check_grid(solved_example))\n",
    "print(\"grille: \", check_grid(grille))"
   ]
  },
  {
   "cell_type": "markdown",
   "metadata": {},
   "source": [
    "### <a id=\"cinq\">5°) Les possibilités</a>"
   ]
  },
  {
   "cell_type": "markdown",
   "metadata": {},
   "source": [
    " Un sudoku digne de ce nom possède une unique solution. À moins que vous découvriez ce jeu en lisant ce script, vous savez d'ores et déjà qu'on a tendance à commencer un sudoku en écrivant en tout petit les possibilités en haut à gauche dans les cases. Par exemple, s'il on se réfère à la case vide de notre grille à la 1ère ligne et à la deuxième colonne ([0, 1] dans le code), on relève rapidement que les nombres candidats sont: 1, 2, 4 et 6.\n",
    "    \n",
    "La fonction suivante va nous permettre, pour une case vide donnée, de relever la listes des candidats potentiels de la grille."
   ]
  },
  {
   "cell_type": "code",
   "execution_count": 12,
   "metadata": {},
   "outputs": [
    {
     "data": {
      "text/plain": [
       "[1, 2, 4, 6]"
      ]
     },
     "execution_count": 12,
     "metadata": {},
     "output_type": "execute_result"
    }
   ],
   "source": [
    "def candidats(sudoku, x, y):\n",
    "    \n",
    "    P = []\n",
    "    for i in range(1, 10):\n",
    "        sudoku[x][y]=i\n",
    "        if check_box(sudoku, x, y):\n",
    "            P.append(i)\n",
    "        sudoku[x][y]=0\n",
    "    return(P)\n",
    "\n",
    "\n",
    "candidats(grille, 0, 1)"
   ]
  },
  {
   "cell_type": "markdown",
   "metadata": {},
   "source": [
    " Nous pourrons donc établir la liste des possibilités pour chaque case 0 d'un sudoku à remplir."
   ]
  },
  {
   "cell_type": "markdown",
   "metadata": {},
   "source": [
    "### <a id=\"six\">6°) Algorithme de résolution</a>"
   ]
  },
  {
   "cell_type": "markdown",
   "metadata": {},
   "source": [
    " Nous sommes maintenant en mesure de créer l'algoritme de résolution de sudoku. Pour cela, nous allons utiliser une fonction récursive qui va tester l'ensemble des possibilités, pour ne nous retourner que la solution exacte du sudoku que nous entrons en paramètre."
   ]
  },
  {
   "cell_type": "code",
   "execution_count": 13,
   "metadata": {},
   "outputs": [],
   "source": [
    "def solver(sudoku):\n",
    "    for x in range(9):\n",
    "        for y in range(9):\n",
    "            if sudoku[x][y]==0:\n",
    "                candidates = candidats(sudoku, x, y)\n",
    "                for p in candidates:\n",
    "                    sudoku[x][y]=p\n",
    "                    solver(sudoku)\n",
    "                    sudoku[x][y]=0\n",
    "                return   \n",
    "    print(sudoku)"
   ]
  },
  {
   "cell_type": "markdown",
   "metadata": {},
   "source": [
    " Enfin, nous pouvons appliquer notre algorithme sur la grille que nous avons entrée plus haut et afficher la solution du sudoku."
   ]
  },
  {
   "cell_type": "code",
   "execution_count": 14,
   "metadata": {},
   "outputs": [
    {
     "name": "stdout",
     "output_type": "stream",
     "text": [
      "[[8 1 2 7 5 3 6 4 9]\n",
      " [9 4 3 6 8 2 1 7 5]\n",
      " [6 7 5 4 9 1 2 8 3]\n",
      " [1 5 4 2 3 7 8 9 6]\n",
      " [3 6 9 8 4 5 7 2 1]\n",
      " [2 8 7 1 6 9 5 3 4]\n",
      " [5 2 1 9 7 4 3 6 8]\n",
      " [4 3 8 5 2 6 9 1 7]\n",
      " [7 9 6 3 1 8 4 5 2]]\n"
     ]
    }
   ],
   "source": [
    "solver(grille)"
   ]
  },
  {
   "cell_type": "markdown",
   "metadata": {},
   "source": [
    " Je vous laisse vérifier que la grille ne contient aucune erreur. Bien entendu, cette solution est unique, auquel cas notre algorithme nous aurait afficher l'ensemble des solutions. Inutile de vous parler du temps d'exécution et de l'affichage si l'on avait rentré une grille nulle à résoudre. Si l'on devait attendre que l'ordinateur calcule et affiche les <B>201 105 135 151 764 480</B> possibilités de sudokus réalisables, Ulysse aurait eu le temps de terminer son voyage!"
   ]
  }
 ],
 "metadata": {
  "kernelspec": {
   "display_name": "Python 3",
   "language": "python",
   "name": "python3"
  },
  "language_info": {
   "codemirror_mode": {
    "name": "ipython",
    "version": 3
   },
   "file_extension": ".py",
   "mimetype": "text/x-python",
   "name": "python",
   "nbconvert_exporter": "python",
   "pygments_lexer": "ipython3",
   "version": "3.7.4"
  }
 },
 "nbformat": 4,
 "nbformat_minor": 2
}
